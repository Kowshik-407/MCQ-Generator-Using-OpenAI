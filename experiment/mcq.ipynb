{
 "cells": [
  {
   "cell_type": "code",
   "execution_count": 1,
   "metadata": {},
   "outputs": [],
   "source": [
    "# Import the necessay System packages\n",
    "import os\n",
    "import json\n",
    "import pandas as pd\n",
    "import traceback\n",
    "from dotenv import load_dotenv"
   ]
  },
  {
   "cell_type": "code",
   "execution_count": null,
   "metadata": {},
   "outputs": [],
   "source": [
    "# Now, using the ChatOpenAI\n",
    "from langchain.chat_models import ChatOpenAI\n",
    "\n",
    "# Create the OpenAI API Key\n",
    "load_dotenv() # Takes environment variables from .env\n",
    "KEY = os.getenv(\"OPENAI_API_KEY\")\n",
    "\n",
    "# Create ChatOpenAI Object\n",
    "llm = ChatOpenAI(openai_api_key=KEY, model_name=\"gpt-3.5-turbo\", temperature=0.5)"
   ]
  },
  {
   "cell_type": "code",
   "execution_count": null,
   "metadata": {},
   "outputs": [],
   "source": [
    "# First, import the necessary packages\n",
    "from langchain.llms import OpenAI\n",
    "from langchain.prompts import PromptTemplate\n",
    "from langchain.chains import LLMChain\n",
    "from langchain.chains import SequentialChain\n",
    "from langchain.callbacks import get_openai_callback\n",
    "import PyPDF2"
   ]
  },
  {
   "cell_type": "code",
   "execution_count": null,
   "metadata": {},
   "outputs": [],
   "source": [
    "# Define the PromptTemplate\n",
    "TEMPLATE = \"\"\"\n",
    "Text: {text}\n",
    "You are expert MCQ Maker. Given the above text, it is your job to create a \\\n",
    "quiz of {number} multiple choice questions for {subject} students in {tone} tone. \\\n",
    "Make sure the questions are not repeated and check all the questions to be conforming the text as well. \\\n",
    "Make sure to format your response like RESPONSE_JSON below and use it as a guide. \\\n",
    "Ensure to make {number} MCQs\n",
    "### RESPONSE_JSON {response_json}\n",
    "\"\"\"\n",
    "\n",
    "quiz_generation_prompt = PromptTemplate(\n",
    "  input_variables=[\"text\", \"number\", \"subject\", \"tone\", \"response_json\"],\n",
    "  template=TEMPLATE\n",
    ")"
   ]
  },
  {
   "cell_type": "code",
   "execution_count": null,
   "metadata": {},
   "outputs": [],
   "source": [
    "# Creation of response_json\n",
    "RESPONSE_JSON = {\n",
    "    \"1\": {\n",
    "\t\"mcq\": \"multiple choice question\",\n",
    "\t\"options\": {\n",
    "\t    \"a\": \"choice here\",\n",
    "\t    \"b\": \"choice here\",\n",
    "\t    \"c\": \"choice here\",\n",
    "\t    \"d\": \"choice here\",\n",
    "\t},\n",
    "\t\"correct\": \"correct answer\",\n",
    "    },\n",
    "    \"2\": {\n",
    "\t\"mcq\": \"multiple choice question\",\n",
    "\t\"options\": {\n",
    "\t    \"a\": \"choice here\",\n",
    "\t    \"b\": \"choice here\",\n",
    "\t    \"c\": \"choice here\",\n",
    "\t    \"d\": \"choice here\",\n",
    "\t},\n",
    "\t\"correct\": \"correct answer\",\n",
    "    },\n",
    "    \"3\": {\n",
    "\t\"mcq\": \"multiple choice question\",\n",
    "\t\"options\": {\n",
    "\t    \"a\": \"choice here\",\n",
    "\t    \"b\": \"choice here\",\n",
    "\t    \"c\": \"choice here\",\n",
    "\t    \"d\": \"choice here\",\n",
    "\t},\n",
    "\t\"correct\": \"correct answer\",\n",
    "    }\n",
    "}"
   ]
  },
  {
   "cell_type": "code",
   "execution_count": null,
   "metadata": {},
   "outputs": [],
   "source": [
    "# Using the LLMChain to connect the LLM and the PromptTemplate\n",
    "quiz_chain = LLMChain(llm=llm, prompt=quiz_generation_prompt, output_key=\"quiz\", verbose=True)"
   ]
  },
  {
   "cell_type": "code",
   "execution_count": null,
   "metadata": {},
   "outputs": [],
   "source": [
    "# For analyzing the correct answer. Created another template, then giving the template1 output as the template2 input.\n",
    "EVALUATION_TEMPLATE = \"\"\"\n",
    "You are an expert English Grammarian and Writer. Given a Mutliple Choice Quiz for {subject} students. \\\n",
    "You need to evaluate the complexity of the question and give a complte analysis of the quiz. \\\n",
    "Only use at max 50 words for complexity if the quiz is not at per with the cognitive and analytical abilities of the students, \\\n",
    "update the quiz questions which needs to be changed and change the tone such that it perfects fits the student ability.\n",
    "Quiz_MCQs: {quiz}\n",
    "\n",
    "Check from an expert English Writer of the above quiz:\n",
    "\"\"\"\n",
    "\n",
    "quiz_evaluation_prompt = PromptTemplate(\n",
    "  input_variables=[\"subject\", \"quiz\"], \n",
    "  template=EVALUATION_TEMPLATE\n",
    ")"
   ]
  },
  {
   "cell_type": "code",
   "execution_count": null,
   "metadata": {},
   "outputs": [],
   "source": [
    "# Using again the LLMChain to connect the LLM and the PromptTemplate\n",
    "review_chain = LLMChain(llm=llm, prompt=quiz_evaluation_prompt, output_key=\"review\", verbose=True)"
   ]
  },
  {
   "cell_type": "code",
   "execution_count": null,
   "metadata": {},
   "outputs": [],
   "source": [
    "# Now, connecting both quiz_chain and review_chain using SequentialChain\n",
    "generate_evaluate_chain = SequentialChain(\n",
    "  chains=[quiz_chain, review_chain],\n",
    "  input_variables=[\"text\", \"number\", \"subject\", \"tone\", \"response_json\"],\n",
    "  output_variables=[\"quiz\", \"review\"],\n",
    "  verbose=True\n",
    ")"
   ]
  },
  {
   "cell_type": "code",
   "execution_count": null,
   "metadata": {},
   "outputs": [],
   "source": [
    "# Use the data.txt file and conduct the quiz on it.\n",
    "file_path = r\"<absolute-path>\\data.txt\"\n",
    "\n",
    "with open(file_path, 'r'), as file:\n",
    "  TEXT = file.read()\n",
    "\n",
    "# Now, python dictionary RESPONSE_JSON is converted into JSON. Using Json Serializer\n",
    "# Serializing the Python Dictionary into a JSON-formatted string\n",
    "RESPONSE = json.dumps(RESPONSE_JSON)"
   ]
  },
  {
   "cell_type": "code",
   "execution_count": null,
   "metadata": {},
   "outputs": [],
   "source": [
    "# Final Step: Using get_openai_callback\n",
    "NUMBER = 5\n",
    "SUBJECT = \"Machine Learning\"\n",
    "TONE = \"EASY\"\n",
    "\n",
    "# https://python.langchain.com/v0.1/docs/modules/model_io/llms/token_usage_tracking/\n",
    "# How to setup Token Usage Tracking in LangChain\n",
    "with get_openai_callback() as cb:\n",
    "    final_response = generate_evaluate_chain({\n",
    "\t\"text\": TEXT,\n",
    "\t\"number\": NUMBER,\n",
    "\t\"subject\": SUBJECT,\n",
    "\t\"tone\": TONE,\n",
    "\t\"response_json\": RESPONSE\n",
    "    })"
   ]
  },
  {
   "cell_type": "code",
   "execution_count": null,
   "metadata": {},
   "outputs": [],
   "source": [
    "# Using get_openai_callback() method: We can use this method to track the tokens and the token usage.\n",
    "# View the token usage.\n",
    "print(f\"Total Tokens: {cb.total_tokens}\")\n",
    "print(f\"Prompt Tokens: {cb.prompt_tokens}\") # Input Tokens\n",
    "print(f\"Completion Tokens: {cb.completion_tokens}\") # Output Tokens\n",
    "print(f\"Total Cost (USD): ${cb.total_cost}\")"
   ]
  },
  {
   "cell_type": "code",
   "execution_count": null,
   "metadata": {},
   "outputs": [],
   "source": [
    "# View the Response\n",
    "print(final_response)\n",
    "\n",
    "# View the quiz questions and load back as python dictionary\n",
    "quiz = final_response.quiz\n",
    "quiz_dict = json.loads(quiz)\n",
    "print(quiz_dict)"
   ]
  },
  {
   "cell_type": "code",
   "execution_count": null,
   "metadata": {},
   "outputs": [],
   "source": [
    "# Now, formatting the dictionary\n",
    "quiz_table_data = []\n",
    "for key, value in quiz_dict.items():\n",
    "    mcq = value[\"mcq\"]\n",
    "    options = \" || \".join([\n",
    "\tf\"{option}: {option_value}\" for option, option_value in value[\"options\"].items()\n",
    "    ])\n",
    "    correct = value[\"correct\"]\n",
    "    quiz_table_data.append({\"MCQ\": mcq, \"Choices\": options, \"Correct\": correct})\n",
    "\n",
    "print(quiz_table_data)"
   ]
  },
  {
   "cell_type": "code",
   "execution_count": null,
   "metadata": {},
   "outputs": [],
   "source": [
    "# Convert the quiz_table_data into a DataFrame and then convert into CSV file\n",
    "quiz = pd.DataFrame(quiz_table_data)\n",
    "quiz.to_csv(\"machinelearning.csv\", index=False)"
   ]
  }
 ],
 "metadata": {
  "kernelspec": {
   "display_name": "Python 3",
   "language": "python",
   "name": "python3"
  },
  "language_info": {
   "codemirror_mode": {
    "name": "ipython",
    "version": 3
   },
   "file_extension": ".py",
   "mimetype": "text/x-python",
   "name": "python",
   "nbconvert_exporter": "python",
   "pygments_lexer": "ipython3",
   "version": "3.8.19"
  }
 },
 "nbformat": 4,
 "nbformat_minor": 2
}
